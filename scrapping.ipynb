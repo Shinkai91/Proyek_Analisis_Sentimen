{
  "nbformat": 4,
  "nbformat_minor": 0,
  "metadata": {
    "colab": {
      "provenance": []
    },
    "kernelspec": {
      "name": "python3",
      "display_name": "Python 3"
    },
    "language_info": {
      "name": "python"
    }
  },
  "cells": [
    {
      "cell_type": "code",
      "source": [
        "from google_play_scraper import reviews\n",
        "import pandas as pd\n",
        "import re\n",
        "import nltk\n",
        "import matplotlib.pyplot as plt\n",
        "from nltk.corpus import stopwords\n",
        "from nltk.sentiment import SentimentIntensityAnalyzer"
      ],
      "metadata": {
        "id": "1YyayZ0pysOV"
      },
      "execution_count": 7,
      "outputs": []
    },
    {
      "cell_type": "code",
      "source": [
        "nltk.download('stopwords')\n",
        "nltk.download('punkt')\n",
        "nltk.download('vader_lexicon')"
      ],
      "metadata": {
        "colab": {
          "base_uri": "https://localhost:8080/"
        },
        "id": "z02B3YIdhEth",
        "outputId": "251b79c9-cd7e-4fbd-cd5c-2246ef0de0ed"
      },
      "execution_count": 8,
      "outputs": [
        {
          "output_type": "stream",
          "name": "stderr",
          "text": [
            "[nltk_data] Downloading package stopwords to /root/nltk_data...\n",
            "[nltk_data]   Package stopwords is already up-to-date!\n",
            "[nltk_data] Downloading package punkt to /root/nltk_data...\n",
            "[nltk_data]   Package punkt is already up-to-date!\n",
            "[nltk_data] Downloading package vader_lexicon to /root/nltk_data...\n"
          ]
        },
        {
          "output_type": "execute_result",
          "data": {
            "text/plain": [
              "True"
            ]
          },
          "metadata": {},
          "execution_count": 8
        }
      ]
    },
    {
      "cell_type": "code",
      "source": [
        "# Scraping reviews dari Google Play Store\n",
        "def scrape_reviews(app_id, num_reviews=20000):\n",
        "    result, _ = reviews(\n",
        "        app_id,\n",
        "        lang='en',\n",
        "        country='us',\n",
        "        count=num_reviews\n",
        "    )\n",
        "    df = pd.DataFrame(result)[['content']]\n",
        "    return df\n",
        "\n",
        "# Preprocessing teks\n",
        "def preprocess_text(text):\n",
        "    text = text.lower()  # Lowercasing\n",
        "    text = re.sub(r'\\d+', '', text)  # Remove numbers\n",
        "    text = re.sub(r'\\W', ' ', text)  # Remove special characters\n",
        "    text = re.sub(r'\\s+', ' ', text).strip()  # Remove extra spaces\n",
        "    stop_words = set(stopwords.words('english'))\n",
        "    words = nltk.word_tokenize(text)\n",
        "    words = [word for word in words if word not in stop_words]\n",
        "    return ' '.join(words)\n",
        "\n",
        "# Menentukan sentimen dengan VADER\n",
        "def get_sentiment(text):\n",
        "    sia = SentimentIntensityAnalyzer()\n",
        "    score = sia.polarity_scores(text)['compound']\n",
        "    return 'positive' if score > 0 else 'negative' if score < 0 else 'neutral'\n",
        "\n",
        "# Menampilkan distribusi label\n",
        "def plot_sentiment_distribution(df):\n",
        "    sentiment_counts = df['sentiment'].value_counts()\n",
        "    sentiment_counts.plot(kind='bar', color=['green', 'red', 'blue'])\n",
        "    plt.title('Distribusi Sentimen')\n",
        "    plt.xlabel('Sentimen')\n",
        "    plt.ylabel('Jumlah')\n",
        "    plt.show()\n",
        "\n",
        "# Fungsi utama\n",
        "def main():\n",
        "    app_id = 'com.paypal.android.p2pmobile'  # Aplikasi PayPal\n",
        "    df = scrape_reviews(app_id)\n",
        "\n",
        "    # Preprocessing\n",
        "    df['cleaned_content'] = df['content'].apply(preprocess_text)\n",
        "\n",
        "    # Labelling Sentimen dengan VADER\n",
        "    df['sentiment'] = df['cleaned_content'].apply(get_sentiment)\n",
        "\n",
        "    print(df.head())\n",
        "    df.to_csv('paypal_reviews.csv', index=False)\n",
        "    print(\"Scraping dan preprocessing selesai. Data disimpan dalam google_play_reviews.csv\")\n",
        "\n",
        "    # Menampilkan distribusi label\n",
        "    plot_sentiment_distribution(df)\n",
        "\n",
        "if __name__ == \"__main__\":\n",
        "    main()"
      ],
      "metadata": {
        "colab": {
          "base_uri": "https://localhost:8080/",
          "height": 762
        },
        "id": "q5p47FmCuItA",
        "outputId": "888b6732-d30c-4ef7-b411-e96cda0ab117"
      },
      "execution_count": 9,
      "outputs": [
        {
          "output_type": "stream",
          "name": "stdout",
          "text": [
            "                                             content  \\\n",
            "0                                     I works Great!   \n",
            "1                                        Easy to use   \n",
            "2  They limited my account and I don't want is ha...   \n",
            "3     Love to use it without having to bring my card   \n",
            "4                                     App works well   \n",
            "\n",
            "                  cleaned_content sentiment  \n",
            "0                     works great  positive  \n",
            "1                        easy use  positive  \n",
            "2  limited account want happening  negative  \n",
            "3     love use without bring card  positive  \n",
            "4                  app works well  positive  \n",
            "Scraping dan preprocessing selesai. Data disimpan dalam google_play_reviews.csv\n"
          ]
        },
        {
          "output_type": "display_data",
          "data": {
            "text/plain": [
              "<Figure size 640x480 with 1 Axes>"
            ],
            "image/png": "[encoded data removed]"
          },
          "metadata": {}
        }
      ]
    }
  ]
}