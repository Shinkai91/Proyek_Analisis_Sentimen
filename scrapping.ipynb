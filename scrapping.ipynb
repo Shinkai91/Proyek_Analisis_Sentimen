{
  "nbformat": 4,
  "nbformat_minor": 0,
  "metadata": {
    "colab": {
      "provenance": []
    },
    "kernelspec": {
      "name": "python3",
      "display_name": "Python 3"
    },
    "language_info": {
      "name": "python"
    }
  },
  "cells": [
    {
      "cell_type": "code",
      "source": [
        "from google_play_scraper import Sort, reviews\n",
        "import pandas as pd\n",
        "import nltk\n",
        "from nltk.sentiment.vader import SentimentIntensityAnalyzer\n",
        "from google.colab import drive\n",
        "\n",
        "# Download Lexicon VADER\n",
        "nltk.download('vader_lexicon')"
      ],
      "metadata": {
        "id": "1YyayZ0pysOV",
        "colab": {
          "base_uri": "https://localhost:8080/"
        },
        "outputId": "3a68ff1b-3314-42db-9e6f-f279e018e8f2"
      },
      "execution_count": 2,
      "outputs": [
        {
          "output_type": "stream",
          "name": "stderr",
          "text": [
            "[nltk_data] Downloading package vader_lexicon to /root/nltk_data...\n"
          ]
        },
        {
          "output_type": "execute_result",
          "data": {
            "text/plain": [
              "True"
            ]
          },
          "metadata": {},
          "execution_count": 2
        }
      ]
    },
    {
      "cell_type": "code",
      "source": [
        "# Inisialisasi VADER Sentiment Analyzer\n",
        "sid = SentimentIntensityAnalyzer()\n",
        "\n",
        "# Kamus kata negatif tambahan (Bahasa Indonesia)\n",
        "negative_words = [\n",
        "    \"gak bisa\", \"tidak bisa\", \"parah\", \"jelek\", \"lemot\", \"lambat\",\n",
        "    \"buruk\", \"error\", \"failed\", \"sampah\", \"payah\", \"kecewa\", \"tidak puas\",\n",
        "    \"sulit\", \"nyusahin\", \"kurang bagus\", \"tidak nyaman\", \"force close\",\n",
        "    \"bug\", \"tidak jalan\", \"tidak berfungsi\", \"tidak responsif\", \"crash\"\n",
        "]\n",
        "\n",
        "# Kamus kata positif tambahan (Bahasa Indonesia)\n",
        "positive_words = [\n",
        "    \"bagus\", \"mantap\", \"cepat\", \"puas\", \"baik\", \"mudah\", \"sukses\",\n",
        "    \"terbaik\", \"membantu\", \"nyaman\", \"lancar\"\n",
        "]\n",
        "\n",
        "# Kata saran atau keluhan\n",
        "suggestion_words = [\"tolong\", \"mohon\", \"harap\", \"sebaiknya\", \"perbaiki\", \"harusnya\"]\n",
        "\n",
        "def scrape_reviews(app_id, max_reviews=20000):\n",
        "    \"\"\"Mengambil review dari Google Play Store\"\"\"\n",
        "    raw_reviews = []\n",
        "    continuation_token = None\n",
        "\n",
        "    while len(raw_reviews) < max_reviews:\n",
        "        reviews_batch, continuation_token = reviews(\n",
        "            app_id,\n",
        "            lang='id',\n",
        "            country='id',\n",
        "            sort=Sort.NEWEST,\n",
        "            count=1000,\n",
        "            continuation_token=continuation_token,\n",
        "        )\n",
        "\n",
        "        raw_reviews.extend(reviews_batch)\n",
        "\n",
        "        if continuation_token is None:\n",
        "            break\n",
        "\n",
        "    return raw_reviews\n",
        "\n",
        "def lexicon_based_label(text):\n",
        "    sentiment_scores = sid.polarity_scores(text)\n",
        "    text_lower = text.lower()\n",
        "\n",
        "    contains_negative = any(word in text_lower for word in negative_words)\n",
        "    contains_positive = any(word in text_lower for word in positive_words)\n",
        "    contains_suggestion = any(word in text_lower for word in suggestion_words)\n",
        "\n",
        "    if contains_negative:\n",
        "        return \"negative\"\n",
        "    if contains_suggestion and contains_negative:\n",
        "        return \"negative\"\n",
        "    if contains_positive and contains_negative:\n",
        "        return \"negative\"\n",
        "    if contains_positive:\n",
        "        return \"positive\"\n",
        "    if -0.05 <= sentiment_scores['compound'] <= 0.05:\n",
        "        return \"neutral\"\n",
        "    return \"neutral\"\n",
        "\n",
        "if __name__ == \"__main__\":\n",
        "    app_id = 'com.bca'\n",
        "    max_reviews = 20000\n",
        "\n",
        "    # Scraping data mentah\n",
        "    raw_reviews = scrape_reviews(app_id, max_reviews)\n",
        "\n",
        "    # Konversi ke DataFrame\n",
        "    df = pd.DataFrame(raw_reviews)\n",
        "\n",
        "    # Terapkan fungsi labeling\n",
        "    df['label'] = df['content'].apply(lexicon_based_label)\n",
        "\n",
        "    # Pisahkan review berdasarkan label\n",
        "    positive_reviews = df[df['label'] == \"positive\"]\n",
        "    negative_reviews = df[df['label'] == \"negative\"]\n",
        "    neutral_reviews = df[df['label'] == \"neutral\"]\n",
        "\n",
        "    # Tentukan jumlah sampel netral dengan median jumlah kelas lainnya\n",
        "    min_count = min(len(positive_reviews), len(negative_reviews))\n",
        "    neutral_sample_count = int(np.median([len(positive_reviews), len(negative_reviews)]))\n",
        "\n",
        "    # Sampling agar jumlah lebih seimbang\n",
        "    balanced_positive = positive_reviews.sample(n=min_count, random_state=42)\n",
        "    balanced_negative = negative_reviews.sample(n=min_count, random_state=42)\n",
        "    balanced_neutral = neutral_reviews.sample(n=neutral_sample_count, random_state=42)\n",
        "\n",
        "    # Gabungkan dataset\n",
        "    balanced_df = pd.concat([balanced_positive, balanced_negative, balanced_neutral]).sample(frac=1, random_state=42)\n",
        "\n",
        "    # Simpan ke CSV\n",
        "    balanced_df.to_csv('bca_reviews_balanced.csv', index=False, encoding='utf-8')\n",
        "\n",
        "    # Tampilkan distribusi label setelah balancing\n",
        "    print(\"Distribusi label setelah balancing:\")\n",
        "    print(balanced_df['label'].value_counts())"
      ],
      "metadata": {
        "colab": {
          "base_uri": "https://localhost:8080/"
        },
        "id": "q5p47FmCuItA",
        "outputId": "df852e69-5eba-4c7d-f8b6-335e58a6b4f9"
      },
      "execution_count": 6,
      "outputs": [
        {
          "output_type": "stream",
          "name": "stdout",
          "text": [
            "Distribusi label setelah balancing:\n",
            "label\n",
            "neutral     5375\n",
            "positive    4726\n",
            "negative    4726\n",
            "Name: count, dtype: int64\n"
          ]
        }
      ]
    }
  ]
}